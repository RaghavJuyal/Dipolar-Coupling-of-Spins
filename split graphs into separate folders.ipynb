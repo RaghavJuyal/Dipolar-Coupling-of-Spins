{
 "cells": [
  {
   "cell_type": "code",
   "execution_count": 5,
   "metadata": {},
   "outputs": [],
   "source": [
    "import os\n",
    "import shutil\n"
   ]
  },
  {
   "cell_type": "code",
   "execution_count": 6,
   "metadata": {},
   "outputs": [],
   "source": [
    "\n",
    "# Define possible combinations\n",
    "valid_distances = [\n",
    "    [1, 100, 100],\n",
    "    [1, 1, 1],\n",
    "    [100, 100, 100],\n",
    "    [100, 100, 1],\n",
    "    [100, 1, 100]\n",
    "]\n",
    "\n",
    "valid_likes = [\n",
    "    [\"like\", \"like\"],\n",
    "    [\"like\", \"unlike\"],\n",
    "    [\"unlike\", \"unlike\"]\n",
    "]\n"
   ]
  },
  {
   "cell_type": "code",
   "execution_count": 7,
   "metadata": {},
   "outputs": [],
   "source": [
    "\n",
    "# Paths to the folders\n",
    "source_folder = 'figs'  # Folder containing the images\n",
    "organized_folder = 'correct reduced number of images with fourier transform smooth'  # Folder to store organized images\n"
   ]
  },
  {
   "cell_type": "code",
   "execution_count": 8,
   "metadata": {},
   "outputs": [],
   "source": [
    "\n",
    "# Ensure the destination folder exists\n",
    "os.makedirs(organized_folder, exist_ok=True)\n",
    "\n",
    "# Process images\n",
    "for filename in os.listdir(source_folder):\n",
    "    if filename.endswith('.png'):  # Assuming the images are PNGs\n",
    "        # Parse the filename\n",
    "        try:\n",
    "            # Split the filename into parts\n",
    "            title = filename.replace(\".png\", \"\")\n",
    "            distances_part, likes_part, state_part = title.split(\"; \")\n",
    "            \n",
    "            # Extract distances\n",
    "            distances = [\n",
    "                int(val) for val in distances_part.split(\"Distances \")[1].split(\" \")\n",
    "            ]\n",
    "            \n",
    "            # Extract Like_1 and Like_2\n",
    "            likes = likes_part.split(\"S1 \")[1].split(\", S2 \")\n",
    "            Like_1, Like_2 = likes\n",
    "            \n",
    "            # Extract state\n",
    "            state = state_part.split(\"State \")[1].split(\" \")\n",
    "\n",
    "            # Validate distances and likes\n",
    "            if distances in valid_distances and [Like_1.lower(), Like_2.lower()] in valid_likes:\n",
    "                # Define the folder structure\n",
    "                distances_folder = os.path.join(\n",
    "                    organized_folder,\n",
    "                    f\"Distances_{distances[0]}_{distances[1]}_{distances[2]}\"\n",
    "                )\n",
    "                likes_folder = os.path.join(\n",
    "                    distances_folder,\n",
    "                    f\"{Like_1.lower()}_{Like_2.lower()}\"\n",
    "                )\n",
    "                os.makedirs(likes_folder, exist_ok=True)\n",
    "\n",
    "                # Move the file\n",
    "                shutil.move(\n",
    "                    os.path.join(source_folder, filename),\n",
    "                    os.path.join(likes_folder, filename)\n",
    "                )\n",
    "            else:\n",
    "                print(f\"Invalid combination in file: {filename}\")\n",
    "\n",
    "        except Exception as e:\n",
    "            print(f\"Error processing file {filename}: {e}\")\n"
   ]
  },
  {
   "cell_type": "code",
   "execution_count": null,
   "metadata": {},
   "outputs": [],
   "source": []
  },
  {
   "cell_type": "code",
   "execution_count": null,
   "metadata": {},
   "outputs": [],
   "source": []
  }
 ],
 "metadata": {
  "kernelspec": {
   "display_name": "base",
   "language": "python",
   "name": "python3"
  },
  "language_info": {
   "codemirror_mode": {
    "name": "ipython",
    "version": 3
   },
   "file_extension": ".py",
   "mimetype": "text/x-python",
   "name": "python",
   "nbconvert_exporter": "python",
   "pygments_lexer": "ipython3",
   "version": "3.11.7"
  }
 },
 "nbformat": 4,
 "nbformat_minor": 2
}
