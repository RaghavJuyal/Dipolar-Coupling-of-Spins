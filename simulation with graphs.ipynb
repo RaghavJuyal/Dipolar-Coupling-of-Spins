{
 "cells": [
  {
   "cell_type": "code",
   "execution_count": 1,
   "metadata": {},
   "outputs": [],
   "source": [
    "import matplotlib.pyplot as plt\n",
    "import numpy as np\n",
    "from qutip import *\n",
    "from itertools import product"
   ]
  },
  {
   "cell_type": "code",
   "execution_count": 2,
   "metadata": {},
   "outputs": [],
   "source": [
    "gamma_high = 0.1\n",
    "gamma_low = 0.02"
   ]
  },
  {
   "cell_type": "code",
   "execution_count": 3,
   "metadata": {},
   "outputs": [],
   "source": [
    "def create_operators(number_of_spins):\n",
    "   \n",
    "    operators = []\n",
    "    for i in range(number_of_spins):\n",
    "        # Start with identity for left side\n",
    "        left_identity = [qeye(2)] * i\n",
    "\n",
    "        # Start with identity for right side\n",
    "        right_identity = [qeye(2)] * (number_of_spins - i - 1)\n",
    "\n",
    "        # Create operators for x, y, z components\n",
    "        spin_x = tensor(*(left_identity + [sigmax()] + right_identity))\n",
    "        spin_y = tensor(*(left_identity + [sigmay()] + right_identity))\n",
    "        spin_z = tensor(*(left_identity + [sigmaz()] + right_identity))\n",
    "\n",
    "        # Append the operators for this spin as a triplet\n",
    "        operators.append([spin_x, spin_y, spin_z])\n",
    "\n",
    "    return operators"
   ]
  },
  {
   "cell_type": "code",
   "execution_count": 4,
   "metadata": {},
   "outputs": [],
   "source": [
    "# print(create_operators(2))\n"
   ]
  },
  {
   "cell_type": "code",
   "execution_count": 5,
   "metadata": {},
   "outputs": [],
   "source": [
    "def create_gamma(Like_list):\n",
    "    gammas = []\n",
    "    gammas.append(0.1)\n",
    "    for element in Like_list:\n",
    "        if element == \"like\":\n",
    "            gammas.append(0.1)\n",
    "        else:\n",
    "            gammas.append(0.02)\n",
    "    return gammas"
   ]
  },
  {
   "cell_type": "code",
   "execution_count": 6,
   "metadata": {},
   "outputs": [],
   "source": [
    "# print(create_gamma([\"unlike\",\"like\"]))"
   ]
  },
  {
   "cell_type": "code",
   "execution_count": 7,
   "metadata": {},
   "outputs": [],
   "source": [
    "def create_theta(number_of_spins):\n",
    "    length = int(((number_of_spins)*(number_of_spins - 1))/2)\n",
    "    thetas = []\n",
    "    for i in range(length):\n",
    "        temp = []\n",
    "        for j in range(length):\n",
    "            if i==j:\n",
    "                temp.append(\"NA\")\n",
    "            else:\n",
    "                temp.append(np.pi/2)\n",
    "        thetas.append(temp)\n",
    "    return thetas"
   ]
  },
  {
   "cell_type": "code",
   "execution_count": null,
   "metadata": {},
   "outputs": [],
   "source": [
    "# print(create_theta(3))"
   ]
  },
  {
   "cell_type": "code",
   "execution_count": null,
   "metadata": {},
   "outputs": [],
   "source": [
    "# # Lengths between spins 01 02 12 Make it a matrix\n",
    "# [1,100,100]\n",
    "# [1,1,1]\n",
    "# [100,100,100]\n",
    "# [100,100,1]\n",
    "# [100,1,100]"
   ]
  },
  {
   "cell_type": "code",
   "execution_count": 10,
   "metadata": {},
   "outputs": [],
   "source": [
    "def get_coefficients(number_of_spins,gammas,thetas,distances):\n",
    "    coefficients = [] # A's\n",
    "    for i in range(number_of_spins):\n",
    "        temp = []\n",
    "        for j in range(number_of_spins):\n",
    "            if i==j:\n",
    "                temp.append(\"NA\")\n",
    "            else:\n",
    "                temp.append(gammas[i]*gammas[j]*(1-3*np.cos(thetas[i][j])**2)/(distances[i][j]**3))\n",
    "        coefficients.append(temp)\n",
    "                \n",
    "    return coefficients"
   ]
  },
  {
   "cell_type": "code",
   "execution_count": 11,
   "metadata": {},
   "outputs": [],
   "source": [
    "def get_hamiltonians(number_of_spins,gammas,thetas,distances,operators):\n",
    "    coefficients = get_coefficients(number_of_spins,gammas,thetas,distances)\n",
    "    \n",
    "    hamiltonians = []\n",
    "    for i in range(number_of_spins):\n",
    "        temp = []\n",
    "        for j in range(number_of_spins):\n",
    "            if j==i:\n",
    "                temp.append(\"NA\")\n",
    "            else:\n",
    "                if gammas[i] == gammas[j]: #Like\n",
    "                    temp.append(coefficients[i][j]*( 2*operators[i][2]*operators[j][2] - operators[i][0]*operators[j][0] - operators[i][1]*operators[j][1])/4)\n",
    "                else:\n",
    "                    temp.append(coefficients[i][j]*( 2*operators[i][2]*operators[j][2] )/4)\n",
    "        \n",
    "        hamiltonians.append(temp)\n",
    "    \n",
    "    return hamiltonians\n",
    "            \n",
    "    "
   ]
  },
  {
   "cell_type": "code",
   "execution_count": 12,
   "metadata": {},
   "outputs": [],
   "source": [
    "def get_hamiltonian(number_of_spins,gammas,thetas,distances,operators):\n",
    "    hamiltonians = get_hamiltonians(number_of_spins,gammas,thetas,distances,operators)\n",
    "    hamiltonian = 0\n",
    "    for i in range(number_of_spins):\n",
    "        for j in range(i+1,number_of_spins):\n",
    "            hamiltonian+=hamiltonians[i][j]\n",
    "    return Qobj(hamiltonian)\n",
    "    "
   ]
  },
  {
   "cell_type": "code",
   "execution_count": null,
   "metadata": {},
   "outputs": [],
   "source": [
    "# thetas1 = [[\"NA\", np.pi/6,np.pi/2],[np.pi/6,\"NA\",np.pi*5/6],[np.pi/2,np.pi*5/6,\"NA\"]]\n",
    "# distances1 = [[\"NA\",1,1],[1,\"NA\",1],[1,1,\"NA\"]]\n",
    "# h = get_hamiltonian(3,[0.1,0.1,0.02],thetas1,distances1,create_operators(3))\n",
    "# print(h)"
   ]
  },
  {
   "cell_type": "code",
   "execution_count": 14,
   "metadata": {},
   "outputs": [],
   "source": [
    "def qubit_integrate(rho0,solver, gammas, thetas, distances,number_of_spins):\n",
    "    \n",
    "    operators = create_operators(number_of_spins)\n",
    "    Hdd = get_hamiltonian(number_of_spins, gammas, thetas, distances, operators)\n",
    "    tlist = np.linspace(0,1000,1000)\n",
    "    \n",
    "    c_ops = []\n",
    "\n",
    "    e_ops = [x for xs in operators for x in xs]\n",
    "        \n",
    "    if solver == \"me\":\n",
    "        output = mesolve(Hdd, rho0, tlist, c_ops, e_ops)  \n",
    "    elif solver == \"es\":\n",
    "        output = essolve(Hdd, rho0, tlist, c_ops, e_ops)  \n",
    "    elif solver == \"mc\":\n",
    "        ntraj = 250\n",
    "        output = mcsolve(Hdd, rho0, tlist, c_ops, e_ops,ntraj=ntraj)  \n",
    "    else:\n",
    "        raise ValueError(\"unknown solver\")\n",
    "        \n",
    "    return output.expect[0], output.expect[1], output.expect[2],output.expect[3], output.expect[4], output.expect[5],output.expect[6], output.expect[7], output.expect[8]"
   ]
  },
  {
   "cell_type": "code",
   "execution_count": 15,
   "metadata": {},
   "outputs": [],
   "source": [
    "def create_initial_density_matrix(number_of_spins,state_of_spins):\n",
    "    rho0 = 1\n",
    "    if state_of_spins[0] == 'x':\n",
    "        rho0 = 1/2*(qeye(2)+sigmax())\n",
    "    elif state_of_spins[0] == 'y':\n",
    "        rho0 = 1/2*(qeye(2)+sigmay())\n",
    "    elif state_of_spins[0] == 'z':\n",
    "        rho0 = 1/2*(qeye(2)+sigmaz())\n",
    "    else:\n",
    "        rho0 = 1/2*(qeye(2))\n",
    "    for i in range(1,number_of_spins):\n",
    "        if state_of_spins[i] == 'x':\n",
    "            rho0 = tensor(Qobj(rho0),1/2*(qeye(2)+sigmax()))\n",
    "        elif state_of_spins[i] == 'y':\n",
    "            rho0 = tensor(Qobj(rho0),1/2*(qeye(2)+sigmay()))\n",
    "        elif state_of_spins[i] == 'z':\n",
    "            rho0 = tensor(Qobj(rho0),1/2*(qeye(2)+sigmaz()))\n",
    "        else:\n",
    "            rho0 = tensor(Qobj(rho0),1/2*(qeye(2)))\n",
    "    return Qobj(rho0)\n"
   ]
  },
  {
   "cell_type": "code",
   "execution_count": 16,
   "metadata": {},
   "outputs": [],
   "source": [
    "# print(create_initial_density_matrix(3,['x','x','x']))"
   ]
  },
  {
   "cell_type": "code",
   "execution_count": 17,
   "metadata": {},
   "outputs": [],
   "source": [
    "# print(create_operators(2))"
   ]
  },
  {
   "cell_type": "code",
   "execution_count": 18,
   "metadata": {},
   "outputs": [],
   "source": [
    "def plot_function(rho0, gammas, thetas, distances, number_of_spins, text):\n",
    "    # Time list and integration\n",
    "    tlist = np.linspace(0, 1000, 1000)\n",
    "    output = qubit_integrate(rho0, \"me\", gammas, thetas, distances, number_of_spins)\n",
    "\n",
    "    # Create a grid for subplots (5 rows)\n",
    "    fig = plt.figure(figsize=(15, 18))\n",
    "\n",
    "    # Combined graph (row 1)\n",
    "    ax1 = plt.subplot2grid((5, 1), (0, 0), rowspan=1)\n",
    "    line_styles = ['-', '--', ':']\n",
    "    markers = ['o', 'x', 's']\n",
    "\n",
    "    for spin_idx in range(number_of_spins):\n",
    "        sx = np.real(output[3 * spin_idx])\n",
    "        sy = np.real(output[3 * spin_idx + 1])\n",
    "        sz = np.real(output[3 * spin_idx + 2])\n",
    "\n",
    "        ax1.plot(\n",
    "            tlist, sx, label=f\"sx_{spin_idx}\", linestyle=line_styles[0],\n",
    "            alpha=0.8, marker=markers[0], markevery=50\n",
    "        )\n",
    "        ax1.plot(\n",
    "            tlist, sy, label=f\"sy_{spin_idx}\", linestyle=line_styles[1],\n",
    "            alpha=0.8, marker=markers[1], markevery=50\n",
    "        )\n",
    "        ax1.plot(\n",
    "            tlist, sz, label=f\"sz_{spin_idx}\", linestyle=line_styles[2],\n",
    "            alpha=0.8, marker=markers[2], markevery=50\n",
    "        )\n",
    "\n",
    "    ax1.set_title('Combined Spin Expectation Values ' + text)\n",
    "    ax1.set_xlabel('Time')\n",
    "    ax1.set_ylabel('Expectation Values')\n",
    "    ax1.set_ylim(-1.25, 1.25)\n",
    "    ax1.legend(loc='upper right', fontsize='small', ncol=2)\n",
    "    ax1.grid(True, linestyle='--', alpha=0.5)\n",
    "\n",
    "    # Individual spin graphs (row 2)\n",
    "    for spin_idx in range(number_of_spins):\n",
    "        ax = plt.subplot2grid((5, number_of_spins), (1, spin_idx))\n",
    "\n",
    "        sx = np.real(output[3 * spin_idx])\n",
    "        sy = np.real(output[3 * spin_idx + 1])\n",
    "        sz = np.real(output[3 * spin_idx + 2])\n",
    "\n",
    "        ax.plot(tlist, sx, 'r', label=f\"sx_{spin_idx}\", linestyle='-', alpha=0.8, marker='o', markevery=50)\n",
    "        ax.plot(tlist, sy, 'b', label=f\"sy_{spin_idx}\", linestyle='--', alpha=0.8, marker='x', markevery=50)\n",
    "        ax.plot(tlist, sz, 'g', label=f\"sz_{spin_idx}\", linestyle=':', alpha=0.8, marker='s', markevery=50)\n",
    "\n",
    "        ax.set_title(f'Spin {spin_idx}')\n",
    "        ax.set_xlabel('Time')\n",
    "        ax.set_ylabel('Expectation Values')\n",
    "        ax.set_ylim(-1.25, 1.25)\n",
    "        ax.legend(loc='upper right', fontsize='x-small')\n",
    "        ax.grid(True, linestyle='--', alpha=0.5)\n",
    "\n",
    "    # Fourier transforms (rows 3-5: Sx, Sy, Sz of each spin)\n",
    "    for row_idx, spin_component in enumerate(['Sx', 'Sy', 'Sz']):\n",
    "        for spin_idx in range(number_of_spins):\n",
    "            ax = plt.subplot2grid((5, number_of_spins), (2 + row_idx, spin_idx))\n",
    "\n",
    "            component = np.real(output[3 * spin_idx + row_idx])  # Sx, Sy, Sz based on row_idx\n",
    "            freq = np.fft.fftfreq(len(tlist), d=(tlist[1] - tlist[0]))\n",
    "            window = np.hanning(len(tlist))  # These 2 lines for hamming\n",
    "            component = component * window # These 2 line for hamming\n",
    "            component_ft = np.fft.fft(component)\n",
    "            freq = np.fft.fftshift(freq)\n",
    "            component_ft = np.fft.fftshift(component_ft)\n",
    "            ax.plot(freq, np.abs(component_ft), 'r' if spin_component == 'Sx' else ('b' if spin_component == 'Sy' else 'g'))\n",
    "            ax.set_title(f'{spin_component} Fourier Transform (Spin {spin_idx})')\n",
    "            ax.set_xlabel('Frequency')\n",
    "            ax.set_ylabel('Amplitude')\n",
    "            ax.set_xlim(-0.02, 0.02)\n",
    "            ax.set_ylim(-0.1,500)\n",
    "            ax.grid(True, linestyle='--', alpha=0.5)\n",
    "\n",
    "    # Adjust layout for clarity\n",
    "    plt.tight_layout()\n",
    "    filename = f'figs/spin_expectation_values_{text}.png'\n",
    "    plt.savefig(filename, dpi=300)\n",
    "    plt.show()\n"
   ]
  },
  {
   "cell_type": "code",
   "execution_count": 19,
   "metadata": {},
   "outputs": [],
   "source": [
    "# rhotest = tensor( Qobj(np.array([[1, 0],\n",
    "#                           [0, 0]])), \n",
    "#           qeye(2)/2, qeye(2)/2 ) \n",
    "# plot_function(create_initial_density_matrix(3,['x','x','x']),[0.1,0.1,0.1],create_theta(3),distances1,3,\"yo\")"
   ]
  },
  {
   "cell_type": "code",
   "execution_count": 20,
   "metadata": {},
   "outputs": [],
   "source": [
    "# for i in range(3):\n",
    "#     for j in range(3):\n",
    "#         print(distance_matrix_5[i][j], end=\" \")\n",
    "#     print(\"\\n\")"
   ]
  },
  {
   "cell_type": "code",
   "execution_count": 21,
   "metadata": {},
   "outputs": [],
   "source": [
    "\n",
    "def generate_combinations(letters, n):\n",
    "\n",
    "    combinations = [''.join(comb) for comb in product(letters, repeat=n)]\n",
    "    return combinations\n",
    "\n",
    "# Example usage\n",
    "\n",
    "\n",
    "# n=3\n",
    "# combinations = generate_combinations(['x','y', 'z', 'u'], 3)\n",
    "\n",
    "# # Print the combinations\n",
    "# # print(f\"All combinations of size {n} with letters {letters}:\")\n",
    "# print(combinations)\n"
   ]
  },
  {
   "cell_type": "code",
   "execution_count": 22,
   "metadata": {},
   "outputs": [],
   "source": [
    "def check_is_needed(distance_matrix,gammas,state):\n",
    "    list_1 = ['uuu', 'xuu', 'xyu','xyz','xxy', 'xxz', 'xxu','xxx','yuu','yyx','yyz','yyu','yyy','zuu','zxu','zyu','zzu','zzx','zzy','zzz']\n",
    "    list_2 = ['uuu', 'xuu', 'uux', 'xyu', 'uxy', 'yux', 'xyz', 'xzy', 'yzx', 'xxy', 'xyx', 'xxz', 'xzx', 'xxu', 'xux', 'xxx', 'yuu', 'uuy', 'yyx', 'yxy', 'yyz', 'yzy', 'yyu', 'yuy', 'yyy', 'zuu', 'uuz', 'zxu', 'zux', 'xuz', 'zyu', 'zuy', 'yuz', 'zzu', 'zuz', 'zzx', 'zxz', 'zzy', 'zyz', 'zzz']\n",
    "    list_3 = ['uuu', 'xuu', 'uxu', 'xyu', 'yux', 'uxy', 'xyz', 'yxz', 'zxy', 'xxy', 'yxx', 'xxz', 'zxx', 'xxu', 'uxx', 'xxx', 'yuu', 'uyu', 'yyx', 'xyy', 'yyz', 'zyy', 'yyu', 'uyy', 'yyy', 'zuu', 'uzu', 'zxu', 'xzu', 'uzx', 'zyu', 'yzu', 'uzy', 'zzu', 'uzz', 'zzx', 'xzz', 'zzy', 'yzz', 'zzz']\n",
    "\n",
    "\n",
    "    if distance_matrix[0][1]==1 and distance_matrix[0][2]==1 and distance_matrix[1][2]==1:\n",
    "        if gammas[1] == 0.1 and gammas[2] == 0.1: #Like Like\n",
    "            if state in list_1:\n",
    "                return 1\n",
    "        elif gammas[1] == 0.1 and gammas[2] == 0.02:\n",
    "            if state in list_2:\n",
    "                return 1\n",
    "        elif gammas[1] == 0.02 and gammas[2] == 0.02:\n",
    "            if state in list_3:\n",
    "                return 1\n",
    "    elif distance_matrix[0][1]==100 and distance_matrix[0][2]==100 and distance_matrix[1][2]==100:\n",
    "        if gammas[1] == 0.1 and gammas[2] == 0.1:\n",
    "            if state in list_1:\n",
    "                return 1\n",
    "        elif gammas[1] == 0.1 and gammas[2] == 0.02:\n",
    "            if state in list_2:\n",
    "                return 1\n",
    "        elif gammas[1] == 0.02 and gammas[2] == 0.02:\n",
    "            if state in list_3:\n",
    "                return 1\n",
    "    elif distance_matrix[0][1]==1 and distance_matrix[0][2]==100 and distance_matrix[1][2]==100:\n",
    "        if gammas[1] == 0.1 and gammas[2] == 0.1:\n",
    "            if state in list_2:\n",
    "                return 1\n",
    "        elif gammas[1] == 0.1 and gammas[2] == 0.02:\n",
    "            if state in list_2:\n",
    "                return 1\n",
    "        elif gammas[1] == 0.02 and gammas[2] == 0.02:\n",
    "            return 1\n",
    "    elif distance_matrix[0][1]==100 and distance_matrix[0][2]==100 and distance_matrix[1][2]==1:\n",
    "        if gammas[1] == 0.1 and gammas[2] == 0.1:\n",
    "            if state in list_3:\n",
    "                return 1\n",
    "        elif gammas[1] == 0.1 and gammas[2] == 0.02:\n",
    "            return 1\n",
    "        elif gammas[1] == 0.02 and gammas[2] == 0.02:\n",
    "            if state in list_3:\n",
    "                return 1\n",
    "    elif distance_matrix[0][1]==100 and distance_matrix[0][2]==1 and distance_matrix[1][2]==100:\n",
    "        if gammas[1] == 0.1 and gammas[2] == 0.1:\n",
    "            return 0\n",
    "        elif gammas[1] == 0.1 and gammas[2] == 0.02:\n",
    "            return 1\n",
    "        elif gammas[1] == 0.02 and gammas[2] == 0.02:\n",
    "            return 0\n",
    "    return 0"
   ]
  },
  {
   "cell_type": "code",
   "execution_count": 23,
   "metadata": {},
   "outputs": [],
   "source": [
    "def computation(number_of_spins):\n",
    "    letters = ['x','y', 'z', 'u']\n",
    "    state_of_spins = generate_combinations(letters, number_of_spins)\n",
    "    \n",
    "    distance_matrix_1 = [[0,1,1],[1,0,1],[1,1,0]] # [1,1,1]\n",
    "    distance_matrix_2 = [[0,100,100],[100,0,100],[100,100,0]] # [100,100,100]\n",
    "    distance_matrix_3 = [[0,1,100],[1,0,100],[100,100,0]] # [1,100,100]\n",
    "    distance_matrix_4 = [[0,100,100],[100,0,1],[100,1,0]] # [100,100,1]\n",
    "    distance_matrix_5 = [[0,100,1],[100,0,100],[1,100,0]] # [100,1,100]\n",
    "    distance_matrices = [distance_matrix_1,distance_matrix_2,distance_matrix_3,distance_matrix_4,distance_matrix_5]\n",
    "    \n",
    "    Like_1 = [\"like\",\"like\"]\n",
    "    Like_2 = [\"like\",\"unlike\"]\n",
    "    Like_3 = [\"unlike\",\"unlike\"]\n",
    "    Like_lists = [Like_1,Like_2,Like_3]\n",
    "    \n",
    "    thetas = create_theta(number_of_spins)\n",
    "    \n",
    "    for distance_matrix in distance_matrices:\n",
    "        for Like_list in Like_lists:\n",
    "            for state in state_of_spins:\n",
    "                gammas = create_gamma(Like_list)\n",
    "                is_needed = check_is_needed(distance_matrix, gammas, state)\n",
    "                if is_needed==0:\n",
    "                    continue\n",
    "                text = f\"Distances {distance_matrix[0][1]} {distance_matrix[0][2]} {distance_matrix[1][2]}; S1 {Like_list[0]}, S2 {Like_list[1]}; State {state[0]} {state[1]} {state[2]}\"\n",
    "                print(text)\n",
    "                \n",
    "                rho0 = create_initial_density_matrix(number_of_spins,state)\n",
    "                plot_function(rho0, gammas, thetas, distance_matrix, number_of_spins,text)\n",
    "                \n",
    "                "
   ]
  },
  {
   "cell_type": "code",
   "execution_count": 24,
   "metadata": {},
   "outputs": [],
   "source": [
    "# computation(3)"
   ]
  },
  {
   "cell_type": "markdown",
   "metadata": {},
   "source": []
  }
 ],
 "metadata": {
  "kernelspec": {
   "display_name": "base",
   "language": "python",
   "name": "python3"
  },
  "language_info": {
   "codemirror_mode": {
    "name": "ipython",
    "version": 3
   },
   "file_extension": ".py",
   "mimetype": "text/x-python",
   "name": "python",
   "nbconvert_exporter": "python",
   "pygments_lexer": "ipython3",
   "version": "3.11.7"
  }
 },
 "nbformat": 4,
 "nbformat_minor": 2
}
